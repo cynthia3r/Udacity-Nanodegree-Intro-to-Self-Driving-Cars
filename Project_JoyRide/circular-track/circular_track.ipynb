{
 "cells": [
  {
   "cell_type": "markdown",
   "metadata": {},
   "source": [
    "# Joy Ride - Part 2: Circular Track\n",
    "\n",
    "In this part, you'll write code to steer a car around a circular track. In doing so you'll explore the relationship between steering angle and turning radius. To get started:\n",
    "\n",
    "1. Run the cell below this one by pressing `Ctrl + Enter`\n",
    "1. The simulator will appear below the cell.\n",
    "1. Run the cell below the simulator, marked `CODE CELL` (hit `Ctrl + Enter`). The car in the simulator should start moving. You should notice a problem...\n",
    "1. Press the **Reset** button in the simulator and then modify the code in the `CODE CELL` as per instruction in TODO comment.\n",
    "1. When you think you've fixed the problem, run the code cell again. \n",
    "\n",
    "#### NOTE - depending on your computer it may take a few minutes for the simulator to load! Please be patient.\n"
   ]
  },
  {
   "cell_type": "code",
   "execution_count": 1,
   "metadata": {},
   "outputs": [
    {
     "data": {
      "text/html": [
       "<script src=\"setupLauncher.js\"></script><div id=\"simulator_frame\"></sim>"
      ],
      "text/plain": [
       "<IPython.core.display.HTML object>"
      ]
     },
     "metadata": {},
     "output_type": "display_data"
    }
   ],
   "source": [
    "%%HTML\n",
    "<script src=\"setupLauncher.js\"></script><div id=\"simulator_frame\"></sim>\n"
   ]
  },
  {
   "cell_type": "code",
   "execution_count": 5,
   "metadata": {},
   "outputs": [
    {
     "data": {
      "application/javascript": [
       "window.simulatorWindow.postMessage(\"steer:0.2\", \"*\");"
      ]
     },
     "metadata": {},
     "output_type": "display_data"
    },
    {
     "data": {
      "application/javascript": [
       "window.simulatorWindow.postMessage(\"throttle:0.08\", \"*\");"
      ]
     },
     "metadata": {},
     "output_type": "display_data"
    }
   ],
   "source": [
    "# CODE CELL\n",
    "#\n",
    "# This is the code you should edit and run to control the car.\n",
    "\n",
    "from Car import Car\n",
    "import time\n",
    "\n",
    "# TODO: Make changes to the steering and gas values and see how they affect the car's motion\n",
    "def circle(car):\n",
    "    car.steer(5)\n",
    "    car.gas(0.08)\n",
    "    \n",
    "car = Car()\n",
    "\n",
    "circle(car)"
   ]
  }
 ],
 "metadata": {
  "kernelspec": {
   "display_name": "Python 3",
   "language": "python",
   "name": "python3"
  },
  "language_info": {
   "codemirror_mode": {
    "name": "ipython",
    "version": 3
   },
   "file_extension": ".py",
   "mimetype": "text/x-python",
   "name": "python",
   "nbconvert_exporter": "python",
   "pygments_lexer": "ipython3",
   "version": "3.6.3"
  }
 },
 "nbformat": 4,
 "nbformat_minor": 2
}
