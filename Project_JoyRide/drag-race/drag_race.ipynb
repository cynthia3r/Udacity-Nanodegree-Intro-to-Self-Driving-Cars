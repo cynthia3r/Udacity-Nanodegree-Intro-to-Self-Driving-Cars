{
 "cells": [
  {
   "cell_type": "markdown",
   "metadata": {},
   "source": [
    "# Joy Ride - Part 1: Drag Race\n",
    "\n",
    "The goal here is to get you familiar with how to control the simulated car with code. To get started:\n",
    "\n",
    "1. Run the cell below this one by pressing `Ctrl + Enter`\n",
    "1. The simulator will appear below the cell.\n",
    "1. Run the cell below the simulator, marked `CODE CELL` (hit `Ctrl + Enter`). The car in the simulator should start moving. You should notice a problem...\n",
    "1. Press the **Reset** button in the simulator and then modify the code in the code cell. You should only need to change one line of code...\n",
    "1. When you think you've fixed the problem, run the code cell again. Did the car make it over the trees?\n",
    "\n",
    "#### NOTE - depending on your computer it may take a few minutes for the simulator to load! Please be patient."
   ]
  },
  {
   "cell_type": "code",
   "execution_count": 1,
   "metadata": {},
   "outputs": [
    {
     "data": {
      "text/html": [
       "<script src=\"setupLauncher.js\"></script><div id=\"simulator_frame\"></sim>"
      ],
      "text/plain": [
       "<IPython.core.display.HTML object>"
      ]
     },
     "metadata": {},
     "output_type": "display_data"
    }
   ],
   "source": [
    "%%HTML\n",
    "<script src=\"setupLauncher.js\"></script><div id=\"simulator_frame\"></sim>"
   ]
  },
  {
   "cell_type": "code",
   "execution_count": 6,
   "metadata": {},
   "outputs": [
    {
     "data": {
      "application/javascript": [
       "window.simulatorWindow.postMessage(\"steer:0.0\", \"*\");"
      ]
     },
     "metadata": {},
     "output_type": "display_data"
    },
    {
     "data": {
      "application/javascript": [
       "window.simulatorWindow.postMessage(\"throttle:0.8\", \"*\");"
      ]
     },
     "metadata": {},
     "output_type": "display_data"
    }
   ],
   "source": [
    "# CODE CELL\n",
    "# \n",
    "# This is the code you should \n",
    "# edit and run to control the car.\n",
    "\n",
    "from Car import Car # you don't need to change this line of code...\n",
    "\n",
    "def jump(car):\n",
    "    # TODO - make modifications in this function\n",
    "    #   so that your car makes it safely over the trees.\n",
    "    \n",
    "    car.steer(0.0) # any value between -25 and 25 works here for\n",
    "                   # steering angle (in degrees)\n",
    "        \n",
    "    car.gas(0.8)   # any value between -1.0 (full reverse) and \n",
    "                   # 1.0 (full throttle) works here\n",
    "    \n",
    "car = Car()  \n",
    "jump(car)"
   ]
  }
 ],
 "metadata": {
  "kernelspec": {
   "display_name": "Python 3",
   "language": "python",
   "name": "python3"
  },
  "language_info": {
   "codemirror_mode": {
    "name": "ipython",
    "version": 3
   },
   "file_extension": ".py",
   "mimetype": "text/x-python",
   "name": "python",
   "nbconvert_exporter": "python",
   "pygments_lexer": "ipython3",
   "version": "3.6.3"
  }
 },
 "nbformat": 4,
 "nbformat_minor": 2
}
